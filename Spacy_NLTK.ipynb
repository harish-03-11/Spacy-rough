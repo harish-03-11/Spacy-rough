{
  "nbformat": 4,
  "nbformat_minor": 0,
  "metadata": {
    "colab": {
      "provenance": [],
      "authorship_tag": "ABX9TyPv5yHix7N1B97PVi7faey/",
      "include_colab_link": true
    },
    "kernelspec": {
      "name": "python3",
      "display_name": "Python 3"
    },
    "language_info": {
      "name": "python"
    }
  },
  "cells": [
    {
      "cell_type": "markdown",
      "metadata": {
        "id": "view-in-github",
        "colab_type": "text"
      },
      "source": [
        "<a href=\"https://colab.research.google.com/github/harish-03-11/Spacy-rough/blob/main/Spacy_NLTK.ipynb\" target=\"_parent\"><img src=\"https://colab.research.google.com/assets/colab-badge.svg\" alt=\"Open In Colab\"/></a>"
      ]
    },
    {
      "cell_type": "markdown",
      "source": [
        "#Sentence Tokenization"
      ],
      "metadata": {
        "id": "VtWZPhlmQgyg"
      }
    },
    {
      "cell_type": "code",
      "source": [],
      "metadata": {
        "id": "NfRpRbmtQgfh"
      },
      "execution_count": null,
      "outputs": []
    },
    {
      "cell_type": "code",
      "execution_count": null,
      "metadata": {
        "id": "N7T7hGGkS6Ur"
      },
      "outputs": [],
      "source": [
        "import spacy"
      ]
    },
    {
      "cell_type": "code",
      "source": [
        "nlp = spacy.load(\"en_core_web_sm\")\n",
        "\n",
        "doc = nlp(\"The DR.Dhamnu expanded Tte expansion of the profile. But , is in full form inside the Apply bill code solutions pop up . when configured for less\")"
      ],
      "metadata": {
        "id": "VsHu9ByrPwXx"
      },
      "execution_count": null,
      "outputs": []
    },
    {
      "cell_type": "code",
      "source": [
        "for i in doc.sents:\n",
        "  print(i)"
      ],
      "metadata": {
        "colab": {
          "base_uri": "https://localhost:8080/"
        },
        "id": "GQyv4SqMP-Ln",
        "outputId": "1f81d4f4-f874-4ae6-868e-e8233a9e14f8"
      },
      "execution_count": null,
      "outputs": [
        {
          "output_type": "stream",
          "name": "stdout",
          "text": [
            "The DR.Dhamnu expanded Tte expansion of the profile.\n",
            "But , is in full form inside the Apply bill code solutions pop up .\n",
            "when configured for less\n"
          ]
        }
      ]
    },
    {
      "cell_type": "markdown",
      "source": [
        "#Word Tokenization in Spacy"
      ],
      "metadata": {
        "id": "azur70D0Qncg"
      }
    },
    {
      "cell_type": "code",
      "source": [
        "for i in doc.sents:\n",
        "  for j in i:\n",
        "    print(j)"
      ],
      "metadata": {
        "colab": {
          "base_uri": "https://localhost:8080/"
        },
        "id": "jt4dZ8DPQK7E",
        "outputId": "943bce86-457b-49f0-dc91-5a0d59e64a75"
      },
      "execution_count": null,
      "outputs": [
        {
          "output_type": "stream",
          "name": "stdout",
          "text": [
            "i\n",
            "want\n",
            "an\n",
            "icecream\n",
            ",\n",
            "but\n",
            "dr\n",
            ".\n",
            "said\n",
            "in\n",
            "this\n",
            "midnight\n",
            ",\n",
            "of\n",
            "the\n",
            "world\n"
          ]
        }
      ]
    },
    {
      "cell_type": "code",
      "source": [
        "import nltk"
      ],
      "metadata": {
        "id": "UaqIVfdnQNgp"
      },
      "execution_count": null,
      "outputs": []
    },
    {
      "cell_type": "code",
      "source": [
        "nltk.download('punkt')"
      ],
      "metadata": {
        "colab": {
          "base_uri": "https://localhost:8080/"
        },
        "id": "yLDlqmNcQwXg",
        "outputId": "4caf5c09-feba-4441-c7b6-fc4238d5c0fc"
      },
      "execution_count": null,
      "outputs": [
        {
          "output_type": "stream",
          "name": "stderr",
          "text": [
            "[nltk_data] Downloading package punkt to /root/nltk_data...\n",
            "[nltk_data]   Unzipping tokenizers/punkt.zip.\n"
          ]
        },
        {
          "output_type": "execute_result",
          "data": {
            "text/plain": [
              "True"
            ]
          },
          "metadata": {},
          "execution_count": 12
        }
      ]
    },
    {
      "cell_type": "code",
      "source": [
        "from nltk.tokenize import sent_tokenize"
      ],
      "metadata": {
        "id": "q4ARrFXIR5eo"
      },
      "execution_count": null,
      "outputs": []
    },
    {
      "cell_type": "code",
      "source": [
        "sent_tokenize(\"The DR. has Dhamnu expanded Tte expansion of the profile. But , is in full form inside the Apply bill code solutions pop up . when configured less\")"
      ],
      "metadata": {
        "colab": {
          "base_uri": "https://localhost:8080/"
        },
        "id": "bCk0k3K4SBY6",
        "outputId": "28d09630-a25b-4bc5-93a6-3ff2cce9b782"
      },
      "execution_count": null,
      "outputs": [
        {
          "output_type": "execute_result",
          "data": {
            "text/plain": [
              "['The DR. has Dhamnu expanded Tte expansion of the profile.',\n",
              " 'But , is in full form inside the Apply bill code solutions pop up .',\n",
              " 'when configured less']"
            ]
          },
          "metadata": {},
          "execution_count": 38
        }
      ]
    },
    {
      "cell_type": "code",
      "source": [
        "doc = nlp(\"tony gave 2 $ to peter\")"
      ],
      "metadata": {
        "id": "Vy410X0jSH14"
      },
      "execution_count": null,
      "outputs": []
    },
    {
      "cell_type": "code",
      "source": [
        "token0 = doc[0]"
      ],
      "metadata": {
        "id": "OaTAJjd4ZXB2"
      },
      "execution_count": null,
      "outputs": []
    },
    {
      "cell_type": "code",
      "source": [
        "token2 = doc[2]"
      ],
      "metadata": {
        "id": "EQLmrwtnaEds"
      },
      "execution_count": null,
      "outputs": []
    },
    {
      "cell_type": "code",
      "source": [
        "token2.text"
      ],
      "metadata": {
        "colab": {
          "base_uri": "https://localhost:8080/",
          "height": 35
        },
        "id": "hakCn2PaalQg",
        "outputId": "d565c7fa-3d46-42ef-b938-25f3f113d66e"
      },
      "execution_count": null,
      "outputs": [
        {
          "output_type": "execute_result",
          "data": {
            "text/plain": [
              "'2'"
            ],
            "application/vnd.google.colaboratory.intrinsic+json": {
              "type": "string"
            }
          },
          "metadata": {},
          "execution_count": 43
        }
      ]
    },
    {
      "cell_type": "code",
      "source": [
        "token2.is_currency"
      ],
      "metadata": {
        "colab": {
          "base_uri": "https://localhost:8080/"
        },
        "id": "s37hXUgNamxS",
        "outputId": "89e590a6-1b04-4809-9be8-cebfbc38494a"
      },
      "execution_count": null,
      "outputs": [
        {
          "output_type": "execute_result",
          "data": {
            "text/plain": [
              "False"
            ]
          },
          "metadata": {},
          "execution_count": 45
        }
      ]
    },
    {
      "cell_type": "code",
      "source": [
        "token3 = doc[3]"
      ],
      "metadata": {
        "id": "TUXNEbDQas7z"
      },
      "execution_count": null,
      "outputs": []
    },
    {
      "cell_type": "code",
      "source": [
        "token3.is_currency"
      ],
      "metadata": {
        "colab": {
          "base_uri": "https://localhost:8080/"
        },
        "id": "wzTkBrwIaxpv",
        "outputId": "f72a4b09-fb50-4dfd-e57c-58d6c29674db"
      },
      "execution_count": null,
      "outputs": [
        {
          "output_type": "execute_result",
          "data": {
            "text/plain": [
              "True"
            ]
          },
          "metadata": {},
          "execution_count": 47
        }
      ]
    },
    {
      "cell_type": "code",
      "source": [
        "f  = [\"\"\"Student Name\tEmail\tBirthdate\n",
        "Alice Johnson\talice.johnson@email.com\t1998-04-15\n",
        "Bob Smith\tbob.smith@email.com\t1997-11-22\n",
        "Clara Davis\tclara.davis@email.com\t1999-07-30\"\"\"]"
      ],
      "metadata": {
        "id": "xLGq_elLazPX"
      },
      "execution_count": null,
      "outputs": []
    },
    {
      "cell_type": "code",
      "source": [
        "f = \" \".join(f)"
      ],
      "metadata": {
        "id": "_L6Vl_v8gQBd"
      },
      "execution_count": null,
      "outputs": []
    },
    {
      "cell_type": "code",
      "source": [
        "print(f)"
      ],
      "metadata": {
        "colab": {
          "base_uri": "https://localhost:8080/"
        },
        "id": "3c8gVi-igVsH",
        "outputId": "ccf5854f-0a05-4679-8007-1dd544905599"
      },
      "execution_count": null,
      "outputs": [
        {
          "output_type": "stream",
          "name": "stdout",
          "text": [
            "Student Name\tEmail\tBirthdate\n",
            "Alice Johnson\talice.johnson@email.com\t1998-04-15\n",
            "Bob Smith\tbob.smith@email.com\t1997-11-22\n",
            "Clara Davis\tclara.davis@email.com\t1999-07-30\n"
          ]
        }
      ]
    },
    {
      "cell_type": "code",
      "source": [
        "type(f)\n"
      ],
      "metadata": {
        "colab": {
          "base_uri": "https://localhost:8080/"
        },
        "id": "QdyNHfI4gvKS",
        "outputId": "64c78e0e-fe97-4e25-f4dd-a35296a81d62"
      },
      "execution_count": null,
      "outputs": [
        {
          "output_type": "execute_result",
          "data": {
            "text/plain": [
              "str"
            ]
          },
          "metadata": {},
          "execution_count": 58
        }
      ]
    },
    {
      "cell_type": "code",
      "source": [
        "doc  = nlp(f)\n",
        "\n",
        "for i in doc:\n",
        "  if i.like_num:\n",
        "    print(i)"
      ],
      "metadata": {
        "colab": {
          "base_uri": "https://localhost:8080/"
        },
        "id": "zMKdEU2Fgz8H",
        "outputId": "d373e3a9-1747-4c51-c76c-90f7c82d491a"
      },
      "execution_count": null,
      "outputs": [
        {
          "output_type": "stream",
          "name": "stdout",
          "text": [
            "1998\n",
            "04\n",
            "15\n",
            "1997\n",
            "11\n",
            "22\n",
            "1999\n",
            "07\n",
            "30\n"
          ]
        }
      ]
    },
    {
      "cell_type": "code",
      "source": [
        "nlp = spacy.blank('hi')"
      ],
      "metadata": {
        "id": "eaq8Gzk1hC-2"
      },
      "execution_count": null,
      "outputs": []
    },
    {
      "cell_type": "code",
      "source": [
        "doc = nlp(\"आपका $ नाम क्या 2 है और 3 आप कहां से € हैं\")"
      ],
      "metadata": {
        "id": "xBsXnQMCh2uP"
      },
      "execution_count": null,
      "outputs": []
    },
    {
      "cell_type": "code",
      "source": [
        "for e in doc:\n",
        "  print(e , e.like_num, e.is_currency)"
      ],
      "metadata": {
        "colab": {
          "base_uri": "https://localhost:8080/"
        },
        "collapsed": true,
        "id": "STAAUbdziGU6",
        "outputId": "ec59ab35-f581-49e6-c037-53be3a9dcc13"
      },
      "execution_count": null,
      "outputs": [
        {
          "output_type": "stream",
          "name": "stdout",
          "text": [
            "आपका False False\n",
            "$ False True\n",
            "नाम False False\n",
            "क्या False False\n",
            "2 True False\n",
            "है False False\n",
            "और False False\n",
            "3 True False\n",
            "आप False False\n",
            "कहां False False\n",
            "से False False\n",
            "€ False True\n",
            "हैं False False\n"
          ]
        }
      ]
    },
    {
      "cell_type": "code",
      "source": [
        "doc = nlp(\"Profile Name Display Inconsistency in Apply Bill Code\")"
      ],
      "metadata": {
        "id": "WTquInQZiKIZ"
      },
      "execution_count": null,
      "outputs": []
    },
    {
      "cell_type": "code",
      "source": [
        "tokens = [token.text for token in doc]\n",
        "tokens"
      ],
      "metadata": {
        "colab": {
          "base_uri": "https://localhost:8080/"
        },
        "id": "QUKTdhrmjVUJ",
        "outputId": "59d0e4e1-3fa9-4158-c949-8d79b0098c43"
      },
      "execution_count": null,
      "outputs": [
        {
          "output_type": "execute_result",
          "data": {
            "text/plain": [
              "['Profile', 'Name', 'Display', 'Inconsistency', 'in', 'Apply', 'Bill', 'Code']"
            ]
          },
          "metadata": {},
          "execution_count": 81
        }
      ]
    },
    {
      "cell_type": "code",
      "source": [
        "emty = []\n",
        "for i in doc:\n",
        "  emty.append(i)\n"
      ],
      "metadata": {
        "collapsed": true,
        "id": "M7Q8U2Y-jb8a"
      },
      "execution_count": null,
      "outputs": []
    },
    {
      "cell_type": "code",
      "source": [
        "emty"
      ],
      "metadata": {
        "colab": {
          "base_uri": "https://localhost:8080/"
        },
        "id": "ZSFiq653jzVE",
        "outputId": "a6f53361-9c2e-48ff-c948-e89733a61b3b"
      },
      "execution_count": null,
      "outputs": [
        {
          "output_type": "execute_result",
          "data": {
            "text/plain": [
              "[Profile, Name, Display, Inconsistency, in, Apply, Bill, Code]"
            ]
          },
          "metadata": {},
          "execution_count": 84
        }
      ]
    },
    {
      "cell_type": "code",
      "source": [
        "type(emty[0])"
      ],
      "metadata": {
        "id": "Ct_s1JFFj5bV",
        "outputId": "77a2eaad-5607-4be1-d2bb-c5bd2ae3da34",
        "colab": {
          "base_uri": "https://localhost:8080/"
        }
      },
      "execution_count": null,
      "outputs": [
        {
          "output_type": "execute_result",
          "data": {
            "text/plain": [
              "spacy.tokens.token.Token"
            ]
          },
          "metadata": {},
          "execution_count": 86
        }
      ]
    },
    {
      "cell_type": "code",
      "source": [],
      "metadata": {
        "id": "UROPX68jj7BA"
      },
      "execution_count": null,
      "outputs": []
    }
  ]
}